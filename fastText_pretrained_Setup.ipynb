{
  "nbformat": 4,
  "nbformat_minor": 0,
  "metadata": {
    "colab": {
      "name": "fastText_pretrained_Setup.ipynb",
      "version": "0.3.2",
      "provenance": []
    },
    "kernelspec": {
      "name": "python3",
      "display_name": "Python 3"
    }
  },
  "cells": [
    {
      "metadata": {
        "id": "xvM6GUk4mYjI",
        "colab_type": "code",
        "colab": {
          "base_uri": "https://localhost:8080/",
          "height": 122
        },
        "outputId": "8bcfa9cd-76fd-4ab6-f08f-03d9fb6f83c9"
      },
      "cell_type": "code",
      "source": [
        "from google.colab import drive\n",
        "drive.mount('/content/drive')\n",
        "#!ls drive/My\\ Drive"
      ],
      "execution_count": 2,
      "outputs": [
        {
          "output_type": "stream",
          "text": [
            "Go to this URL in a browser: https://accounts.google.com/o/oauth2/auth?client_id=947318989803-6bn6qk8qdgf4n4g3pfee6491hc0brc4i.apps.googleusercontent.com&redirect_uri=urn%3Aietf%3Awg%3Aoauth%3A2.0%3Aoob&scope=email%20https%3A%2F%2Fwww.googleapis.com%2Fauth%2Fdocs.test%20https%3A%2F%2Fwww.googleapis.com%2Fauth%2Fdrive%20https%3A%2F%2Fwww.googleapis.com%2Fauth%2Fdrive.photos.readonly%20https%3A%2F%2Fwww.googleapis.com%2Fauth%2Fpeopleapi.readonly&response_type=code\n",
            "\n",
            "Enter your authorization code:\n",
            "··········\n",
            "Mounted at /content/drive\n"
          ],
          "name": "stdout"
        }
      ]
    },
    {
      "metadata": {
        "id": "ERh5qxtpru9z",
        "colab_type": "text"
      },
      "cell_type": "markdown",
      "source": [
        "pretrained weight を取得する。"
      ]
    },
    {
      "metadata": {
        "id": "NQ0cW9WvmRTk",
        "colab_type": "code",
        "colab": {
          "base_uri": "https://localhost:8080/",
          "height": 204
        },
        "outputId": "74a6e862-fbaa-4679-e651-953f40ea59cb"
      },
      "cell_type": "code",
      "source": [
        "!wget  https://dl.fbaipublicfiles.com/fasttext/vectors-english/wiki-news-300d-1M-subword.bin.zip"
      ],
      "execution_count": 1,
      "outputs": [
        {
          "output_type": "stream",
          "text": [
            "--2019-04-04 13:41:11--  https://dl.fbaipublicfiles.com/fasttext/vectors-english/wiki-news-300d-1M-subword.bin.zip\n",
            "Resolving dl.fbaipublicfiles.com (dl.fbaipublicfiles.com)... 104.20.22.166, 104.20.6.166, 2606:4700:10::6814:16a6, ...\n",
            "Connecting to dl.fbaipublicfiles.com (dl.fbaipublicfiles.com)|104.20.22.166|:443... connected.\n",
            "HTTP request sent, awaiting response... 200 OK\n",
            "Length: 4501919899 (4.2G) [application/zip]\n",
            "Saving to: ‘wiki-news-300d-1M-subword.bin.zip’\n",
            "\n",
            "wiki-news-300d-1M-s 100%[===================>]   4.19G  19.0MB/s    in 1m 51s  \n",
            "\n",
            "2019-04-04 13:43:03 (38.6 MB/s) - ‘wiki-news-300d-1M-subword.bin.zip’ saved [4501919899/4501919899]\n",
            "\n"
          ],
          "name": "stdout"
        }
      ]
    },
    {
      "metadata": {
        "id": "70edRG9mr9GN",
        "colab_type": "text"
      },
      "cell_type": "markdown",
      "source": [
        "マイドライブに解凍する"
      ]
    },
    {
      "metadata": {
        "id": "84omyisbmYmY",
        "colab_type": "code",
        "colab": {
          "base_uri": "https://localhost:8080/",
          "height": 51
        },
        "outputId": "813d9ef9-0a74-40a3-8136-f5cf0ff47fe7"
      },
      "cell_type": "code",
      "source": [
        "!unzip wiki-news-300d-1M-subword.bin.zip -d drive/My\\ Drive"
      ],
      "execution_count": 3,
      "outputs": [
        {
          "output_type": "stream",
          "text": [
            "Archive:  wiki-news-300d-1M-subword.bin.zip\n",
            "  inflating: drive/My Drive/wiki-news-300d-1M-subword.bin  \n"
          ],
          "name": "stdout"
        }
      ]
    },
    {
      "metadata": {
        "id": "vPYk5vSusEtV",
        "colab_type": "text"
      },
      "cell_type": "markdown",
      "source": [
        "fastText ソースを取得する"
      ]
    },
    {
      "metadata": {
        "id": "Opj21InGoydR",
        "colab_type": "code",
        "colab": {
          "base_uri": "https://localhost:8080/",
          "height": 136
        },
        "outputId": "0df06edf-2ce3-44be-e8db-db81c1002691"
      },
      "cell_type": "code",
      "source": [
        "!git clone https://github.com/facebookresearch/fastText.git"
      ],
      "execution_count": 6,
      "outputs": [
        {
          "output_type": "stream",
          "text": [
            "Cloning into 'fastText'...\n",
            "remote: Enumerating objects: 8, done.\u001b[K\n",
            "remote: Counting objects: 100% (8/8), done.\u001b[K\n",
            "remote: Compressing objects: 100% (7/7), done.\u001b[K\n",
            "remote: Total 3129 (delta 0), reused 8 (delta 0), pack-reused 3121\u001b[K\n",
            "Receiving objects: 100% (3129/3129), 7.81 MiB | 13.45 MiB/s, done.\n",
            "Resolving deltas: 100% (1966/1966), done.\n"
          ],
          "name": "stdout"
        }
      ]
    },
    {
      "metadata": {
        "id": "v88x-rBqsKGj",
        "colab_type": "text"
      },
      "cell_type": "markdown",
      "source": [
        "ビルドする"
      ]
    },
    {
      "metadata": {
        "id": "R_ajUiOJo4qp",
        "colab_type": "code",
        "colab": {
          "base_uri": "https://localhost:8080/",
          "height": 207
        },
        "outputId": "d24ba873-b5bf-46eb-eddb-be0f5cb0f464"
      },
      "cell_type": "code",
      "source": [
        "!cd fastText;sudo pip install ."
      ],
      "execution_count": 7,
      "outputs": [
        {
          "output_type": "stream",
          "text": [
            "Processing /content/fastText\n",
            "Requirement already satisfied: pybind11>=2.2 in /usr/local/lib/python3.6/dist-packages (from fasttext==0.8.22) (2.2.4)\n",
            "Requirement already satisfied: setuptools>=0.7.0 in /usr/local/lib/python3.6/dist-packages (from fasttext==0.8.22) (40.8.0)\n",
            "Requirement already satisfied: numpy in /usr/local/lib/python3.6/dist-packages (from fasttext==0.8.22) (1.14.6)\n",
            "Building wheels for collected packages: fasttext\n",
            "  Building wheel for fasttext (setup.py) ... \u001b[?25ldone\n",
            "\u001b[?25h  Stored in directory: /tmp/pip-ephem-wheel-cache-m6ni7wuk/wheels/a1/9f/52/696ce6c5c46325e840c76614ee5051458c0df10306987e7443\n",
            "Successfully built fasttext\n",
            "Installing collected packages: fasttext\n",
            "Successfully installed fasttext-0.8.22\n"
          ],
          "name": "stdout"
        }
      ]
    },
    {
      "metadata": {
        "id": "9de7ptBCmYpW",
        "colab_type": "code",
        "colab": {
          "base_uri": "https://localhost:8080/",
          "height": 2043
        },
        "outputId": "0035949d-5a0b-4e22-de74-f76094e58187"
      },
      "cell_type": "code",
      "source": [
        "import fastText\n",
        "\n",
        "model = fastText.FastText.load_model('drive/My Drive/wiki-news-300d-1M-subword.bin')\n",
        "print(model)\n",
        "print(help(fastText.FastText._FastText))"
      ],
      "execution_count": 10,
      "outputs": [
        {
          "output_type": "stream",
          "text": [
            "<fastText.FastText._FastText object at 0x7f10d986db70>\n",
            "Help on class _FastText in module fastText.FastText:\n",
            "\n",
            "class _FastText(builtins.object)\n",
            " |  This class defines the API to inspect models and should not be used to\n",
            " |  create objects. It will be returned by functions such as load_model or\n",
            " |  train.\n",
            " |  \n",
            " |  In general this API assumes to be given only unicode for Python2 and the\n",
            " |  Python3 equvalent called str for any string-like arguments. All unicode\n",
            " |  strings are then encoded as UTF-8 and fed to the fastText C++ API.\n",
            " |  \n",
            " |  Methods defined here:\n",
            " |  \n",
            " |  __init__(self, model=None)\n",
            " |      Initialize self.  See help(type(self)) for accurate signature.\n",
            " |  \n",
            " |  get_dimension(self)\n",
            " |      Get the dimension (size) of a lookup vector (hidden layer).\n",
            " |  \n",
            " |  get_input_matrix(self)\n",
            " |      Get a copy of the full input matrix of a Model. This only\n",
            " |      works if the model is not quantized.\n",
            " |  \n",
            " |  get_input_vector(self, ind)\n",
            " |      Given an index, get the corresponding vector of the Input Matrix.\n",
            " |  \n",
            " |  get_labels(self, include_freq=False, on_unicode_error='strict')\n",
            " |      Get the entire list of labels of the dictionary optionally\n",
            " |      including the frequency of the individual labels. Unsupervised\n",
            " |      models use words as labels, which is why get_labels\n",
            " |      will call and return get_words for this type of\n",
            " |      model.\n",
            " |  \n",
            " |  get_line(self, text, on_unicode_error='strict')\n",
            " |      Split a line of text into words and labels. Labels must start with\n",
            " |      the prefix used to create the model (__label__ by default).\n",
            " |  \n",
            " |  get_output_matrix(self)\n",
            " |      Get a copy of the full output matrix of a Model. This only\n",
            " |      works if the model is not quantized.\n",
            " |  \n",
            " |  get_sentence_vector(self, text)\n",
            " |      Given a string, get a single vector represenation. This function\n",
            " |      assumes to be given a single line of text. We split words on\n",
            " |      whitespace (space, newline, tab, vertical tab) and the control\n",
            " |      characters carriage return, formfeed and the null character.\n",
            " |  \n",
            " |  get_subword_id(self, subword)\n",
            " |      Given a subword, return the index (within input matrix) it hashes to.\n",
            " |  \n",
            " |  get_subwords(self, word, on_unicode_error='strict')\n",
            " |      Given a word, get the subwords and their indicies.\n",
            " |  \n",
            " |  get_word_id(self, word)\n",
            " |      Given a word, get the word id within the dictionary.\n",
            " |      Returns -1 if word is not in the dictionary.\n",
            " |  \n",
            " |  get_word_vector(self, word)\n",
            " |      Get the vector representation of word.\n",
            " |  \n",
            " |  get_words(self, include_freq=False, on_unicode_error='strict')\n",
            " |      Get the entire list of words of the dictionary optionally\n",
            " |      including the frequency of the individual words. This\n",
            " |      does not include any subwords. For that please consult\n",
            " |      the function get_subwords.\n",
            " |  \n",
            " |  is_quantized(self)\n",
            " |  \n",
            " |  predict(self, text, k=1, threshold=0.0, on_unicode_error='strict')\n",
            " |      Given a string, get a list of labels and a list of\n",
            " |      corresponding probabilities. k controls the number\n",
            " |      of returned labels. A choice of 5, will return the 5\n",
            " |      most probable labels. By default this returns only\n",
            " |      the most likely label and probability. threshold filters\n",
            " |      the returned labels by a threshold on probability. A\n",
            " |      choice of 0.5 will return labels with at least 0.5\n",
            " |      probability. k and threshold will be applied together to\n",
            " |      determine the returned labels.\n",
            " |      \n",
            " |      This function assumes to be given\n",
            " |      a single line of text. We split words on whitespace (space,\n",
            " |      newline, tab, vertical tab) and the control characters carriage\n",
            " |      return, formfeed and the null character.\n",
            " |      \n",
            " |      If the model is not supervised, this function will throw a ValueError.\n",
            " |      \n",
            " |      If given a list of strings, it will return a list of results as usually\n",
            " |      received for a single line of text.\n",
            " |  \n",
            " |  quantize(self, input=None, qout=False, cutoff=0, retrain=False, epoch=None, lr=None, thread=None, verbose=None, dsub=2, qnorm=False)\n",
            " |      Quantize the model reducing the size of the model and\n",
            " |      it's memory footprint.\n",
            " |  \n",
            " |  save_model(self, path)\n",
            " |      Save the model to the given path\n",
            " |  \n",
            " |  test(self, path, k=1)\n",
            " |      Evaluate supervised model using file given by path\n",
            " |  \n",
            " |  test_label(self, path, k=1, threshold=0.0)\n",
            " |      Return the precision and recall score for each label.\n",
            " |      \n",
            " |      The returned value is a dictionary, where the key is the label.\n",
            " |      For example:\n",
            " |      f.test_label(...)\n",
            " |      {'__label__italian-cuisine' : {'precision' : 0.7, 'recall' : 0.74}}\n",
            " |  \n",
            " |  ----------------------------------------------------------------------\n",
            " |  Data descriptors defined here:\n",
            " |  \n",
            " |  __dict__\n",
            " |      dictionary for instance variables (if defined)\n",
            " |  \n",
            " |  __weakref__\n",
            " |      list of weak references to the object (if defined)\n",
            "\n",
            "None\n"
          ],
          "name": "stdout"
        }
      ]
    },
    {
      "metadata": {
        "id": "r1jkrqqlq9db",
        "colab_type": "code",
        "colab": {}
      },
      "cell_type": "code",
      "source": [
        "import numpy as np\n",
        "import pandas as pd\n",
        "\n",
        "class fastTextVectorizer:\n",
        "    def __init__(self):\n",
        "        self.model = model\n",
        " \n",
        "    def get(self,corpus):\n",
        "        vec = []\n",
        "        if len(corpus) != 0:\n",
        "            for p in corpus:\n",
        "                vec.append(model.get_word_vector(p))\n",
        "        else:\n",
        "            vec.append(np.zeros(300))\n",
        "\n",
        "        return np.array(vec)\n",
        "\n",
        "Vectorizer = fastTextVectorizer()"
      ],
      "execution_count": 0,
      "outputs": []
    },
    {
      "metadata": {
        "id": "kfMML4tvpFHX",
        "colab_type": "code",
        "colab": {
          "base_uri": "https://localhost:8080/",
          "height": 34
        },
        "outputId": "b414cc26-3e8d-4152-fd47-97042f7e3df5"
      },
      "cell_type": "code",
      "source": [
        "sentance = \"Kaerururu likes kaggle very much\"\n",
        "\n",
        "corpus = sentance.split(' ')\n",
        "\n",
        "corpus"
      ],
      "execution_count": 18,
      "outputs": [
        {
          "output_type": "execute_result",
          "data": {
            "text/plain": [
              "['Kaerururu', 'likes', 'kaggle', 'very', 'much']"
            ]
          },
          "metadata": {
            "tags": []
          },
          "execution_count": 18
        }
      ]
    },
    {
      "metadata": {
        "id": "_9vkmRxepFBt",
        "colab_type": "code",
        "colab": {
          "base_uri": "https://localhost:8080/",
          "height": 204
        },
        "outputId": "bb1f946a-5874-44f7-fe0c-e2eb4a84bea0"
      },
      "cell_type": "code",
      "source": [
        "vec = Vectorizer.get(corpus)\n",
        "\n",
        "print(vec.shape)\n",
        "vec"
      ],
      "execution_count": 19,
      "outputs": [
        {
          "output_type": "stream",
          "text": [
            "(5, 300)\n"
          ],
          "name": "stdout"
        },
        {
          "output_type": "execute_result",
          "data": {
            "text/plain": [
              "array([[ 0.00479189,  0.00076622, -0.00025739, ..., -0.00490327,\n",
              "        -0.00920221, -0.014365  ],\n",
              "       [ 0.01596881,  0.04688494,  0.00066695, ...,  0.01253003,\n",
              "         0.0161329 , -0.00909959],\n",
              "       [ 0.01079815,  0.0054005 , -0.01178535, ...,  0.00313774,\n",
              "         0.00204078, -0.00597636],\n",
              "       [ 0.00384124, -0.06426769,  0.02252812, ..., -0.00964052,\n",
              "        -0.01634751, -0.00016563],\n",
              "       [ 0.00118656, -0.03619536,  0.0089293 , ..., -0.01233855,\n",
              "         0.02183427, -0.01065825]], dtype=float32)"
            ]
          },
          "metadata": {
            "tags": []
          },
          "execution_count": 19
        }
      ]
    },
    {
      "metadata": {
        "id": "_U3A5t7bmYsZ",
        "colab_type": "code",
        "colab": {}
      },
      "cell_type": "code",
      "source": [
        ""
      ],
      "execution_count": 0,
      "outputs": []
    }
  ]
}