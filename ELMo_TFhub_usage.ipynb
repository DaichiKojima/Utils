{
  "nbformat": 4,
  "nbformat_minor": 0,
  "metadata": {
    "colab": {
      "name": "ELMo_TFhub_usage.ipynb",
      "version": "0.3.2",
      "provenance": [],
      "collapsed_sections": []
    },
    "kernelspec": {
      "name": "python3",
      "display_name": "Python 3"
    }
  },
  "cells": [
    {
      "metadata": {
        "id": "Q-vt7vwKyQs8",
        "colab_type": "code",
        "colab": {}
      },
      "cell_type": "code",
      "source": [
        "!pip install -q tensorflow-hub"
      ],
      "execution_count": 0,
      "outputs": []
    },
    {
      "metadata": {
        "id": "nTar5VIFjY8X",
        "colab_type": "code",
        "colab": {}
      },
      "cell_type": "code",
      "source": [
        "import tensorflow_hub as hub\n",
        "import tensorflow as tf"
      ],
      "execution_count": 0,
      "outputs": []
    },
    {
      "metadata": {
        "id": "eAREDDR0vTq8",
        "colab_type": "code",
        "colab": {}
      },
      "cell_type": "code",
      "source": [
        "ELMO = \"https://tfhub.dev/google/elmo/2\"\n",
        "NNLM = \"https://tfhub.dev/google/nnlm-en-dim128/1\""
      ],
      "execution_count": 0,
      "outputs": []
    },
    {
      "metadata": {
        "id": "-UYmHWjsvTtp",
        "colab_type": "code",
        "colab": {}
      },
      "cell_type": "code",
      "source": [
        "def embed(model_name, sentences):\n",
        "    if model_name == \"elmo\":\n",
        "        elmo = hub.Module(ELMO, trainable=True)\n",
        "        executable = elmo(\n",
        "            sentences,\n",
        "            signature=\"default\",\n",
        "            as_dict=True)[\"elmo\"]\n",
        "\n",
        "    elif model_name == \"nnlm\":\n",
        "        nnlm = hub.Module(NNLM)\n",
        "        executable = nnlm(sentences)\n",
        "\n",
        "    else:\n",
        "        raise NotImplementedError\n",
        "\n",
        "    return execute(executable)\n",
        "\n",
        "\n",
        "def execute(tensor):\n",
        "    with tf.Session() as sess:\n",
        "        sess.run(tf.global_variables_initializer())\n",
        "        sess.run(tf.tables_initializer())\n",
        "\n",
        "        return sess.run(tensor)"
      ],
      "execution_count": 0,
      "outputs": []
    },
    {
      "metadata": {
        "id": "nH97KQXrwrM3",
        "colab_type": "code",
        "colab": {}
      },
      "cell_type": "code",
      "source": [
        "def word_to_sentence(embeddings):\n",
        "    return embeddings.sum(axis=1)\n",
        "\n",
        "def get_embeddings_elmo_nnlm(sentences):\n",
        "    return word_to_sentence(embed(\"elmo\", sentences)), embed(\"nnlm\", sentences)\n",
        "  \n",
        "def cos_sim(a, b):\n",
        "    return np.inner(a, b) / (np.linalg.norm(a) * (np.linalg.norm(b)))"
      ],
      "execution_count": 0,
      "outputs": []
    },
    {
      "metadata": {
        "id": "zc2CyoDEwrKW",
        "colab_type": "code",
        "colab": {
          "base_uri": "https://localhost:8080/",
          "height": 85
        },
        "outputId": "dc8268b8-cfdc-419e-cbf0-7a8b2117d2dc"
      },
      "cell_type": "code",
      "source": [
        "import numpy as np\n",
        "\n",
        "\n",
        "if __name__ == \"__main__\":\n",
        "    sentence1, sentence2 = ['people read the book', 'the book people read']\n",
        "\n",
        "    # Get embeddings corresponding to each sentences\n",
        "    results_elmo, results_nnlm = get_embeddings_elmo_nnlm([sentence1, sentence2])\n",
        "\n",
        "    print(\"[Cosine Similarity]\")\n",
        "    print(\"\\\"{}\\\" vs \\\"{}\\\"\".format(sentence1, sentence2))\n",
        "    print(\"ELMo:\", cos_sim(results_elmo[0], results_elmo[1]))\n",
        "    print(\"NNLM:\", cos_sim(results_nnlm[0], results_nnlm[1]))"
      ],
      "execution_count": 35,
      "outputs": [
        {
          "output_type": "stream",
          "text": [
            "[Cosine Similarity]\n",
            "\"people read the book\" vs \"the book people read\"\n",
            "ELMo: 0.83875865\n",
            "NNLM: 1.0\n"
          ],
          "name": "stdout"
        }
      ]
    },
    {
      "metadata": {
        "id": "hYzxAR2AwrH0",
        "colab_type": "code",
        "colab": {}
      },
      "cell_type": "code",
      "source": [
        ""
      ],
      "execution_count": 0,
      "outputs": []
    },
    {
      "metadata": {
        "id": "coYHnBLYwrFm",
        "colab_type": "code",
        "colab": {}
      },
      "cell_type": "code",
      "source": [
        ""
      ],
      "execution_count": 0,
      "outputs": []
    },
    {
      "metadata": {
        "id": "yPT_IcYgvTw9",
        "colab_type": "code",
        "colab": {}
      },
      "cell_type": "code",
      "source": [
        ""
      ],
      "execution_count": 0,
      "outputs": []
    }
  ]
}