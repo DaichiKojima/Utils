{
  "nbformat": 4,
  "nbformat_minor": 0,
  "metadata": {
    "colab": {
      "name": "addColorAttention.ipynb",
      "version": "0.3.2",
      "provenance": [],
      "collapsed_sections": []
    },
    "kernelspec": {
      "name": "python3",
      "display_name": "Python 3"
    }
  },
  "cells": [
    {
      "metadata": {
        "id": "mBosxfz4ouKk",
        "colab_type": "code",
        "colab": {
          "base_uri": "https://localhost:8080/",
          "height": 309
        },
        "outputId": "196d6fe8-2692-4a73-e2cb-7ad47dc8ad11"
      },
      "cell_type": "code",
      "source": [
        "from google.colab import drive\n",
        "drive.mount('/content/drive')\n",
        "!ls drive/My\\ Drive"
      ],
      "execution_count": 1,
      "outputs": [
        {
          "output_type": "stream",
          "text": [
            "Go to this URL in a browser: https://accounts.google.com/o/oauth2/auth?client_id=947318989803-6bn6qk8qdgf4n4g3pfee6491hc0brc4i.apps.googleusercontent.com&redirect_uri=urn%3Aietf%3Awg%3Aoauth%3A2.0%3Aoob&scope=email%20https%3A%2F%2Fwww.googleapis.com%2Fauth%2Fdocs.test%20https%3A%2F%2Fwww.googleapis.com%2Fauth%2Fdrive%20https%3A%2F%2Fwww.googleapis.com%2Fauth%2Fdrive.photos.readonly%20https%3A%2F%2Fwww.googleapis.com%2Fauth%2Fpeopleapi.readonly&response_type=code\n",
            "\n",
            "Enter your authorization code:\n",
            "··········\n",
            "Mounted at /content/drive\n",
            "addColorAttention.ipynb\t\t\t   fastText_ELMo.ipynb\n",
            "attn.html\t\t\t\t   fintech_classification\n",
            "bert\t\t\t\t\t   geo_data\n",
            "BERT_fine_tune_make_tsv_and_run.ipynb\t   geo_data_pretrained_fasttext.csv\n",
            "BERT_pre_trained.ipynb\t\t\t   output\n",
            "bert_pytorch\t\t\t\t   output2\n",
            "bert-tf\t\t\t\t\t   uncased_L-12_H-768_A-12\n",
            "config.json\t\t\t\t   vocab.txt\n",
            "en_fintech_categorize_finetuned_model.bin  wiki-news-300d-1M-subword.bin\n",
            "eval_results.txt\t\t\t   wiki-news-300d-1M-subword.vec\n",
            "fact-opinion\t\t\t\t   wiki-news-300d-1M.vec\n"
          ],
          "name": "stdout"
        }
      ]
    },
    {
      "metadata": {
        "id": "q8Yt21AKoxL0",
        "colab_type": "code",
        "colab": {}
      },
      "cell_type": "code",
      "source": [
        "def highlight(word, attn):\n",
        "  html_color = '#%02X%02X%02X' % (255, int(255*(1 - attn)), int(255*(1 - attn)))\n",
        "  return '<span style=\"background-color: {}\">{}</span>'.format(html_color, word)\n",
        "\n",
        "def mk_html(sentence, attns):\n",
        "  html = \"\"\n",
        "  for (word, attn) in zip(sentence, attns):\n",
        "    html += ' ' + highlight(word, attn)\n",
        "  return html + \"<br><br>\\n\""
      ],
      "execution_count": 0,
      "outputs": []
    },
    {
      "metadata": {
        "id": "BMrx96g1pEHW",
        "colab_type": "code",
        "colab": {}
      },
      "cell_type": "code",
      "source": [
        "sentence = ['indonesia', 'polls', 'bring', 'battle', 'over', 'china', \"'\", 's', 'belt', 'and', 'road', 'push']\n",
        "attns = [0.2443619,0.05339014,0.06127296,0.03567654,0.02764368,0.06957109, \\\n",
        "         0.05097625, 0.06254722, 0.04276207, 0.04460097, 0.08350291, 0.05590716]"
      ],
      "execution_count": 0,
      "outputs": []
    },
    {
      "metadata": {
        "id": "5GXhfGTKpOJB",
        "colab_type": "text"
      },
      "cell_type": "markdown",
      "source": [
        "write in html"
      ]
    },
    {
      "metadata": {
        "id": "MD8uwKqvoxIu",
        "colab_type": "code",
        "colab": {}
      },
      "cell_type": "code",
      "source": [
        "f = open(\"drive/My Drive/attn.html\", \"w\")\n",
        "f.write(mk_html(sentence, attns))\n",
        "f.close()"
      ],
      "execution_count": 0,
      "outputs": []
    },
    {
      "metadata": {
        "id": "siOU_OcLoxGM",
        "colab_type": "code",
        "colab": {}
      },
      "cell_type": "code",
      "source": [
        ""
      ],
      "execution_count": 0,
      "outputs": []
    }
  ]
}