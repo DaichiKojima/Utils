{
 "cells": [
  {
   "cell_type": "code",
   "execution_count": 1,
   "metadata": {},
   "outputs": [],
   "source": [
    "def text_strength_finder(text):\n",
    "    \"\"\"\n",
    "    string の大文字の数が2以上なら全部大文字、1以下なら全部小文字にする。\n",
    "    # aBcdEf -> ABCDEF\n",
    "    # Abcdef -> abcdef\n",
    "    大文字が2つ以上使用されている場合、筆者の強調したいという想いが含まれている場合がある。\n",
    "    \"\"\"\n",
    "    # 文字列を1文字ごとの配列に分割する。\n",
    "    chars = list(text) \n",
    "    # それぞれの文字が大文字か小文字か判別する。 [True, False, ... , True, ...]\n",
    "    check_up_or_down = [i.isupper() for i in chars]\n",
    "    # 大文字が2つ以上なら、全部大文字、それ以外なら全て小文字にする。\n",
    "    text = text.upper() if check_up_or_down.count(True) >= 2 else text.lower()\n",
    "    return text"
   ]
  },
  {
   "cell_type": "code",
   "execution_count": 2,
   "metadata": {},
   "outputs": [
    {
     "data": {
      "text/plain": [
       "('SFFFGHSDHFFHHG', 'ssfgjgghghd')"
      ]
     },
     "execution_count": 2,
     "metadata": {},
     "output_type": "execute_result"
    }
   ],
   "source": [
    "string = \"SfffghsDHffhhG\"\n",
    "STR = \"ssfgjgghghd\"\n",
    "\n",
    "a = text_strength_finder(string)\n",
    "b = text_strength_finder(STR)\n",
    "\n",
    "a, b"
   ]
  }
 ],
 "metadata": {
  "kernelspec": {
   "display_name": "Python 3",
   "language": "python",
   "name": "python3"
  },
  "language_info": {
   "codemirror_mode": {
    "name": "ipython",
    "version": 3
   },
   "file_extension": ".py",
   "mimetype": "text/x-python",
   "name": "python",
   "nbconvert_exporter": "python",
   "pygments_lexer": "ipython3",
   "version": "3.6.6"
  }
 },
 "nbformat": 4,
 "nbformat_minor": 2
}
